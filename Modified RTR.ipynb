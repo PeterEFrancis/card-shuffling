{
 "cells": [
  {
   "cell_type": "markdown",
   "metadata": {},
   "source": [
    "# Card Shuffling\n",
    "\n",
    "Deck with $n$ cards.\n",
    "\n",
    "**Random-to-Random Shuffle**:\n",
    " 1. Remove a card u.a.r. from the deck\n",
    " 1. Insert it u.a.r.\n",
    "\n",
    "One shuffle acts on the deck by one of the following elements of $S_n$:\n",
    "$$S=\\{(1)\\}\\cup\\{(a\\ a+1)\\ :\\ a\\in [n-1]\\}\\cup\\{(a\\ a+1\\ \\cdots b)^\\pm\\ :\\ a, b\\in [n], |a-b| > 1\\} \\subset S_n.$$\n",
    "\n",
    "Note: $|S|=1+(n-1)+2n(n-3)$ ?\n",
    "\n",
    "For any $x\\in S_n$, and $s\\in S$, $\\mathbb{P}(x, xs)=\\begin{cases}\\frac{1}{n} & s=(1)\\\\ \\frac{2}{n^2} & s= (a\\ a+1)\\\\ \\frac{1}{n^2}&s=(a\\ a+1\\ \\cdots\\ b)\\end{cases}$\n",
    "\n",
    "**Modified Random-to-Random Shuffle**\n",
    " 1. Remove a card u.a.r. from the deck\n",
    " 1. Insert it u.a.r. *among all positions, excluding the one below it or the top position if the bottom card is selected*\n",
    " \n",
    "For any $x\\in S_n$, $\\mathbb{P}(x, xs)=\\begin{cases}\\frac{1}{n} & s=(1)\\\\ \\frac{1-\\frac{1}{n}}{|S|-1} & s\\in S\\setminus\\{(1)\\}\\end{cases}$\n",
    "\n",
    "**Goal**\n",
    "\n",
    "Let $T$ be the first time that all cards have been picked.\n",
    "\n",
    "We want to compute $\\mathbb{P}(X_t=\\sigma\\mid T\\leq t)$ for all $\\sigma\\in S_n$ and $t$.\n",
    "\n",
    "___"
   ]
  },
  {
   "cell_type": "code",
   "execution_count": 6,
   "metadata": {},
   "outputs": [],
   "source": [
    "import random as r"
   ]
  },
  {
   "cell_type": "code",
   "execution_count": 228,
   "metadata": {},
   "outputs": [],
   "source": [
    "def get_deck(n):\n",
    "    return list(range(1, n + 1))\n",
    "\n",
    "def rtr(deck:list):\n",
    "    n = len(deck)\n",
    "    card = r.choice(deck)\n",
    "    new_deck = deck.copy()\n",
    "    new_deck.remove(card)\n",
    "    new_loc = r.randint(0, n - 1)\n",
    "    new_deck.insert(b, card)\n",
    "    return new_deck, card\n",
    "\n",
    "def m_rtr(deck:list):\n",
    "    n = len(deck)\n",
    "    a = r.randint(0, n - 1)\n",
    "    card = deck[a]\n",
    "    new_deck = deck.copy()\n",
    "    new_deck.remove(card)\n",
    "    b = r.choice([pos % n for pos in range(a + 2, a + n + 1)])\n",
    "    new_deck.insert(b, card)\n",
    "    return new_deck, card"
   ]
  },
  {
   "cell_type": "code",
   "execution_count": 148,
   "metadata": {},
   "outputs": [],
   "source": [
    "def T_trial(shuffle, n):\n",
    "    deck = get_deck(n)\n",
    "    marked = set()\n",
    "    t = 0\n",
    "    while len(marked) < n:\n",
    "        deck, card = shuffle(deck)\n",
    "        marked.add(card)\n",
    "        t += 1\n",
    "    return t"
   ]
  },
  {
   "cell_type": "code",
   "execution_count": 256,
   "metadata": {},
   "outputs": [],
   "source": [
    "class Node:\n",
    "    def __init__(self, deck:list, marked:set=set(), prob:float=1):\n",
    "        self.deck = deck\n",
    "        self.marked = marked\n",
    "        self.children = []\n",
    "        self.prob = prob # probability that this node is reached from its parent\n",
    "        \n",
    "    def set_deck(self, deck):\n",
    "        self.deck = deck\n",
    "    \n",
    "    def set_marked(self, marked):\n",
    "        self.marked = marked\n",
    "        \n",
    "    def iterate_children(self):\n",
    "        for child in self.children:\n",
    "            yield child\n",
    "        return None\n",
    "    \n",
    "    def __str__(self):\n",
    "        return \"\\n\".join([\n",
    "            \"_\" * (len(self.deck)*2 + 1),\n",
    "            \"|\" + \"|\".join([\" \", \"*\"][card in self.marked] for card in self.deck) + \"|\",\n",
    "            \"|\" + \"|\".join(str(card) for card in self.deck) + \"|\" + f\"   prob: {self.prob}\",\n",
    "            \"‾\" * (len(self.deck)*2 + 1),\n",
    "        ])\n",
    "    \n",
    "    def __repr__(self):\n",
    "        return str(self)\n",
    "    \n",
    "    def generate_children(self):\n",
    "        \"\"\"\n",
    "        make every possible move\n",
    "        create a new child node for each move\n",
    "        link in children list\n",
    "        \"\"\"\n",
    "        \n",
    "        n = len(self.deck)\n",
    "        \n",
    "        for position, card in enumerate(self.deck):\n",
    "            for pre_new_loc in range(position + 2, position + 1 + n):\n",
    "                new_deck = self.deck.copy()\n",
    "                new_deck.remove(card)\n",
    "                new_loc = pre_new_loc % n\n",
    "                new_deck.insert(new_loc, card)\n",
    "                new_marked = self.marked.copy()\n",
    "                new_marked.add(card)\n",
    "                node = Node(new_deck, new_marked, 1 / (n * (n-1)))\n",
    "                self.children.append(node)"
   ]
  },
  {
   "cell_type": "code",
   "execution_count": 260,
   "metadata": {},
   "outputs": [],
   "source": [
    "node = Node([1,2,3,4,5])\n",
    "node.generate_children()"
   ]
  },
  {
   "cell_type": "code",
   "execution_count": 261,
   "metadata": {},
   "outputs": [
    {
     "data": {
      "text/plain": [
       "___________\n",
       "| | | | | |\n",
       "|1|2|3|4|5|   prob: 1\n",
       "‾‾‾‾‾‾‾‾‾‾‾"
      ]
     },
     "execution_count": 261,
     "metadata": {},
     "output_type": "execute_result"
    }
   ],
   "source": [
    "node"
   ]
  },
  {
   "cell_type": "code",
   "execution_count": 262,
   "metadata": {},
   "outputs": [
    {
     "data": {
      "text/plain": [
       "[___________\n",
       " | | |*| | |\n",
       " |2|3|1|4|5|   prob: 0.05\n",
       " ‾‾‾‾‾‾‾‾‾‾‾,\n",
       " ___________\n",
       " | | | |*| |\n",
       " |2|3|4|1|5|   prob: 0.05\n",
       " ‾‾‾‾‾‾‾‾‾‾‾,\n",
       " ___________\n",
       " | | | | |*|\n",
       " |2|3|4|5|1|   prob: 0.05\n",
       " ‾‾‾‾‾‾‾‾‾‾‾,\n",
       " ___________\n",
       " |*| | | | |\n",
       " |1|2|3|4|5|   prob: 0.05\n",
       " ‾‾‾‾‾‾‾‾‾‾‾,\n",
       " ___________\n",
       " | | | |*| |\n",
       " |1|3|4|2|5|   prob: 0.05\n",
       " ‾‾‾‾‾‾‾‾‾‾‾,\n",
       " ___________\n",
       " | | | | |*|\n",
       " |1|3|4|5|2|   prob: 0.05\n",
       " ‾‾‾‾‾‾‾‾‾‾‾,\n",
       " ___________\n",
       " |*| | | | |\n",
       " |2|1|3|4|5|   prob: 0.05\n",
       " ‾‾‾‾‾‾‾‾‾‾‾,\n",
       " ___________\n",
       " | |*| | | |\n",
       " |1|2|3|4|5|   prob: 0.05\n",
       " ‾‾‾‾‾‾‾‾‾‾‾,\n",
       " ___________\n",
       " | | | | |*|\n",
       " |1|2|4|5|3|   prob: 0.05\n",
       " ‾‾‾‾‾‾‾‾‾‾‾,\n",
       " ___________\n",
       " |*| | | | |\n",
       " |3|1|2|4|5|   prob: 0.05\n",
       " ‾‾‾‾‾‾‾‾‾‾‾,\n",
       " ___________\n",
       " | |*| | | |\n",
       " |1|3|2|4|5|   prob: 0.05\n",
       " ‾‾‾‾‾‾‾‾‾‾‾,\n",
       " ___________\n",
       " | | |*| | |\n",
       " |1|2|3|4|5|   prob: 0.05\n",
       " ‾‾‾‾‾‾‾‾‾‾‾,\n",
       " ___________\n",
       " |*| | | | |\n",
       " |4|1|2|3|5|   prob: 0.05\n",
       " ‾‾‾‾‾‾‾‾‾‾‾,\n",
       " ___________\n",
       " | |*| | | |\n",
       " |1|4|2|3|5|   prob: 0.05\n",
       " ‾‾‾‾‾‾‾‾‾‾‾,\n",
       " ___________\n",
       " | | |*| | |\n",
       " |1|2|4|3|5|   prob: 0.05\n",
       " ‾‾‾‾‾‾‾‾‾‾‾,\n",
       " ___________\n",
       " | | | |*| |\n",
       " |1|2|3|4|5|   prob: 0.05\n",
       " ‾‾‾‾‾‾‾‾‾‾‾,\n",
       " ___________\n",
       " | |*| | | |\n",
       " |1|5|2|3|4|   prob: 0.05\n",
       " ‾‾‾‾‾‾‾‾‾‾‾,\n",
       " ___________\n",
       " | | |*| | |\n",
       " |1|2|5|3|4|   prob: 0.05\n",
       " ‾‾‾‾‾‾‾‾‾‾‾,\n",
       " ___________\n",
       " | | | |*| |\n",
       " |1|2|3|5|4|   prob: 0.05\n",
       " ‾‾‾‾‾‾‾‾‾‾‾,\n",
       " ___________\n",
       " | | | | |*|\n",
       " |1|2|3|4|5|   prob: 0.05\n",
       " ‾‾‾‾‾‾‾‾‾‾‾]"
      ]
     },
     "execution_count": 262,
     "metadata": {},
     "output_type": "execute_result"
    }
   ],
   "source": [
    "node.children"
   ]
  },
  {
   "cell_type": "code",
   "execution_count": null,
   "metadata": {},
   "outputs": [],
   "source": []
  }
 ],
 "metadata": {
  "kernelspec": {
   "display_name": "Python 3",
   "language": "python",
   "name": "python3"
  },
  "language_info": {
   "codemirror_mode": {
    "name": "ipython",
    "version": 3
   },
   "file_extension": ".py",
   "mimetype": "text/x-python",
   "name": "python",
   "nbconvert_exporter": "python",
   "pygments_lexer": "ipython3",
   "version": "3.7.7"
  }
 },
 "nbformat": 4,
 "nbformat_minor": 4
}
